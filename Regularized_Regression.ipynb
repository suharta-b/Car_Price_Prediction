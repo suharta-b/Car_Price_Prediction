{
 "cells": [
  {
   "cell_type": "code",
   "execution_count": 1,
   "metadata": {},
   "outputs": [],
   "source": [
    "from IPython.core.interactiveshell import InteractiveShell\n",
    "InteractiveShell.ast_node_interactivity = \"all\""
   ]
  },
  {
   "cell_type": "code",
   "execution_count": 2,
   "metadata": {},
   "outputs": [],
   "source": [
    "# Importing necessary libraries\n",
    "import pandas as pd\n",
    "import matplotlib.pyplot as plt\n",
    "import seaborn as sns\n",
    "import numpy as np\n",
    "from math import sqrt\n",
    "\n",
    "# Importing libraries for plotting Q-Q plot\n",
    "import scipy.stats as stat\n",
    "import pylab\n",
    "\n",
    "# Importing the Ridge Regression\n",
    "from sklearn.linear_model import Ridge\n",
    "\n",
    "# Importing the libraries for Hyperparameter Tuning\n",
    "from sklearn.model_selection import RandomizedSearchCV #-----Randomized Search CV\n",
    "from sklearn.model_selection import GridSearchCV #----Grid Search CV\n",
    "\n",
    "# Importing R-Square, Mean absolute error, Mean-squared error for evaluation\n",
    "from sklearn.metrics import r2_score, mean_absolute_error,  mean_squared_error\n",
    "\n",
    "# Importing warnings for ignoring any warnings in the program\n",
    "import warnings\n",
    "warnings.filterwarnings(\"ignore\")"
   ]
  },
  {
   "cell_type": "code",
   "execution_count": 3,
   "metadata": {},
   "outputs": [
    {
     "data": {
      "text/html": [
       "<div>\n",
       "<style scoped>\n",
       "    .dataframe tbody tr th:only-of-type {\n",
       "        vertical-align: middle;\n",
       "    }\n",
       "\n",
       "    .dataframe tbody tr th {\n",
       "        vertical-align: top;\n",
       "    }\n",
       "\n",
       "    .dataframe thead th {\n",
       "        text-align: right;\n",
       "    }\n",
       "</style>\n",
       "<table border=\"1\" class=\"dataframe\">\n",
       "  <thead>\n",
       "    <tr style=\"text-align: right;\">\n",
       "      <th></th>\n",
       "      <th>Selling_Price</th>\n",
       "      <th>Present_Price</th>\n",
       "      <th>Kms_Driven</th>\n",
       "      <th>Owner</th>\n",
       "      <th>Years_Used</th>\n",
       "      <th>Fuel_Type_Diesel</th>\n",
       "      <th>Fuel_Type_Petrol</th>\n",
       "      <th>Seller_Type_Individual</th>\n",
       "      <th>Transmission_Manual</th>\n",
       "    </tr>\n",
       "  </thead>\n",
       "  <tbody>\n",
       "    <tr>\n",
       "      <th>0</th>\n",
       "      <td>3.35</td>\n",
       "      <td>5.59</td>\n",
       "      <td>27000</td>\n",
       "      <td>0</td>\n",
       "      <td>6</td>\n",
       "      <td>0</td>\n",
       "      <td>1</td>\n",
       "      <td>0</td>\n",
       "      <td>1</td>\n",
       "    </tr>\n",
       "    <tr>\n",
       "      <th>1</th>\n",
       "      <td>4.75</td>\n",
       "      <td>9.54</td>\n",
       "      <td>43000</td>\n",
       "      <td>0</td>\n",
       "      <td>7</td>\n",
       "      <td>1</td>\n",
       "      <td>0</td>\n",
       "      <td>0</td>\n",
       "      <td>1</td>\n",
       "    </tr>\n",
       "    <tr>\n",
       "      <th>2</th>\n",
       "      <td>7.25</td>\n",
       "      <td>9.85</td>\n",
       "      <td>6900</td>\n",
       "      <td>0</td>\n",
       "      <td>3</td>\n",
       "      <td>0</td>\n",
       "      <td>1</td>\n",
       "      <td>0</td>\n",
       "      <td>1</td>\n",
       "    </tr>\n",
       "    <tr>\n",
       "      <th>3</th>\n",
       "      <td>2.85</td>\n",
       "      <td>4.15</td>\n",
       "      <td>5200</td>\n",
       "      <td>0</td>\n",
       "      <td>9</td>\n",
       "      <td>0</td>\n",
       "      <td>1</td>\n",
       "      <td>0</td>\n",
       "      <td>1</td>\n",
       "    </tr>\n",
       "    <tr>\n",
       "      <th>4</th>\n",
       "      <td>4.60</td>\n",
       "      <td>6.87</td>\n",
       "      <td>42450</td>\n",
       "      <td>0</td>\n",
       "      <td>6</td>\n",
       "      <td>1</td>\n",
       "      <td>0</td>\n",
       "      <td>0</td>\n",
       "      <td>1</td>\n",
       "    </tr>\n",
       "  </tbody>\n",
       "</table>\n",
       "</div>"
      ],
      "text/plain": [
       "   Selling_Price  Present_Price  Kms_Driven  Owner  Years_Used  \\\n",
       "0           3.35           5.59       27000      0           6   \n",
       "1           4.75           9.54       43000      0           7   \n",
       "2           7.25           9.85        6900      0           3   \n",
       "3           2.85           4.15        5200      0           9   \n",
       "4           4.60           6.87       42450      0           6   \n",
       "\n",
       "   Fuel_Type_Diesel  Fuel_Type_Petrol  Seller_Type_Individual  \\\n",
       "0                 0                 1                       0   \n",
       "1                 1                 0                       0   \n",
       "2                 0                 1                       0   \n",
       "3                 0                 1                       0   \n",
       "4                 1                 0                       0   \n",
       "\n",
       "   Transmission_Manual  \n",
       "0                    1  \n",
       "1                    1  \n",
       "2                    1  \n",
       "3                    1  \n",
       "4                    1  "
      ]
     },
     "execution_count": 3,
     "metadata": {},
     "output_type": "execute_result"
    }
   ],
   "source": [
    "# Loading dataset----Using Outlier treated dataset\n",
    "car_ridge = pd.read_csv(\"Car_Preprocess_Outlier.csv\")\n",
    "#----Regression sensitive towards outliers\n",
    "\n",
    "# Viewing the dataset\n",
    "car_ridge.head()"
   ]
  },
  {
   "cell_type": "code",
   "execution_count": 4,
   "metadata": {},
   "outputs": [],
   "source": [
    "# Function for plotting Q-Q Plot----Visualizing data distribution\n",
    "def plot_data(df, feature):\n",
    "    plt.figure(figsize=(10,6))\n",
    "    plt.subplot(1,2,1)\n",
    "    df[feature].hist()\n",
    "    plt.subplot(1,2,2)\n",
    "    stat.probplot(df[feature], dist=\"norm\", plot=pylab)\n",
    "    plt.show()"
   ]
  },
  {
   "cell_type": "code",
   "execution_count": 5,
   "metadata": {},
   "outputs": [
    {
     "data": {
      "image/png": "[encoded data removed]",
      "text/plain": [
       "<Figure size 720x432 with 2 Axes>"
      ]
     },
     "metadata": {
      "needs_background": "light"
     },
     "output_type": "display_data"
    }
   ],
   "source": [
    "plot_data(car_ridge, \"Present_Price\")"
   ]
  },
  {
   "cell_type": "code",
   "execution_count": 6,
   "metadata": {},
   "outputs": [
    {
     "data": {
      "image/png": "[encoded data removed]",
      "text/plain": [
       "<Figure size 720x432 with 2 Axes>"
      ]
     },
     "metadata": {
      "needs_background": "light"
     },
     "output_type": "display_data"
    }
   ],
   "source": [
    "# Performing Lograthimic Transformation on feature \"Present_Price\"-Linear Regression assumes data to be normally distributed\n",
    "car_ridge[\"Present_Price_Log\"] = np.log(car_ridge[\"Present_Price\"])\n",
    "plot_data(car_ridge, \"Present_Price_Log\")"
   ]
  },
  {
   "cell_type": "code",
   "execution_count": 7,
   "metadata": {},
   "outputs": [
    {
     "data": {
      "image/png": "[encoded data removed]",
      "text/plain": [
       "<Figure size 720x432 with 2 Axes>"
      ]
     },
     "metadata": {
      "needs_background": "light"
     },
     "output_type": "display_data"
    }
   ],
   "source": [
    "plot_data(car_ridge, \"Kms_Driven\")"
   ]
  },
  {
   "cell_type": "code",
   "execution_count": 8,
   "metadata": {},
   "outputs": [
    {
     "data": {
      "image/png": "[encoded data removed]",
      "text/plain": [
       "<Figure size 720x432 with 2 Axes>"
      ]
     },
     "metadata": {
      "needs_background": "light"
     },
     "output_type": "display_data"
    }
   ],
   "source": [
    "# Performing Lograthimic Transformation on feature \"Kms_Driven\"----Linear Regression assumes data to be normally distributed\n",
    "car_ridge[\"Kms_Driven_Log\"] = np.log(car_ridge[\"Kms_Driven\"])\n",
    "plot_data(car_ridge, \"Kms_Driven_Log\")"
   ]
  },
  {
   "cell_type": "code",
   "execution_count": 9,
   "metadata": {},
   "outputs": [
    {
     "data": {
      "text/html": [
       "<div>\n",
       "<style scoped>\n",
       "    .dataframe tbody tr th:only-of-type {\n",
       "        vertical-align: middle;\n",
       "    }\n",
       "\n",
       "    .dataframe tbody tr th {\n",
       "        vertical-align: top;\n",
       "    }\n",
       "\n",
       "    .dataframe thead th {\n",
       "        text-align: right;\n",
       "    }\n",
       "</style>\n",
       "<table border=\"1\" class=\"dataframe\">\n",
       "  <thead>\n",
       "    <tr style=\"text-align: right;\">\n",
       "      <th></th>\n",
       "      <th>Selling_Price</th>\n",
       "      <th>Owner</th>\n",
       "      <th>Years_Used</th>\n",
       "      <th>Fuel_Type_Diesel</th>\n",
       "      <th>Fuel_Type_Petrol</th>\n",
       "      <th>Seller_Type_Individual</th>\n",
       "      <th>Transmission_Manual</th>\n",
       "      <th>Present_Price_Log</th>\n",
       "      <th>Kms_Driven_Log</th>\n",
       "    </tr>\n",
       "  </thead>\n",
       "  <tbody>\n",
       "    <tr>\n",
       "      <th>0</th>\n",
       "      <td>3.35</td>\n",
       "      <td>0</td>\n",
       "      <td>6</td>\n",
       "      <td>0</td>\n",
       "      <td>1</td>\n",
       "      <td>0</td>\n",
       "      <td>1</td>\n",
       "      <td>1.720979</td>\n",
       "      <td>10.203592</td>\n",
       "    </tr>\n",
       "    <tr>\n",
       "      <th>1</th>\n",
       "      <td>4.75</td>\n",
       "      <td>0</td>\n",
       "      <td>7</td>\n",
       "      <td>1</td>\n",
       "      <td>0</td>\n",
       "      <td>0</td>\n",
       "      <td>1</td>\n",
       "      <td>2.255493</td>\n",
       "      <td>10.668955</td>\n",
       "    </tr>\n",
       "    <tr>\n",
       "      <th>2</th>\n",
       "      <td>7.25</td>\n",
       "      <td>0</td>\n",
       "      <td>3</td>\n",
       "      <td>0</td>\n",
       "      <td>1</td>\n",
       "      <td>0</td>\n",
       "      <td>1</td>\n",
       "      <td>2.287471</td>\n",
       "      <td>8.839277</td>\n",
       "    </tr>\n",
       "    <tr>\n",
       "      <th>3</th>\n",
       "      <td>2.85</td>\n",
       "      <td>0</td>\n",
       "      <td>9</td>\n",
       "      <td>0</td>\n",
       "      <td>1</td>\n",
       "      <td>0</td>\n",
       "      <td>1</td>\n",
       "      <td>1.423108</td>\n",
       "      <td>8.556414</td>\n",
       "    </tr>\n",
       "    <tr>\n",
       "      <th>4</th>\n",
       "      <td>4.60</td>\n",
       "      <td>0</td>\n",
       "      <td>6</td>\n",
       "      <td>1</td>\n",
       "      <td>0</td>\n",
       "      <td>0</td>\n",
       "      <td>1</td>\n",
       "      <td>1.927164</td>\n",
       "      <td>10.656082</td>\n",
       "    </tr>\n",
       "  </tbody>\n",
       "</table>\n",
       "</div>"
      ],
      "text/plain": [
       "   Selling_Price  Owner  Years_Used  Fuel_Type_Diesel  Fuel_Type_Petrol  \\\n",
       "0           3.35      0           6                 0                 1   \n",
       "1           4.75      0           7                 1                 0   \n",
       "2           7.25      0           3                 0                 1   \n",
       "3           2.85      0           9                 0                 1   \n",
       "4           4.60      0           6                 1                 0   \n",
       "\n",
       "   Seller_Type_Individual  Transmission_Manual  Present_Price_Log  \\\n",
       "0                       0                    1           1.720979   \n",
       "1                       0                    1           2.255493   \n",
       "2                       0                    1           2.287471   \n",
       "3                       0                    1           1.423108   \n",
       "4                       0                    1           1.927164   \n",
       "\n",
       "   Kms_Driven_Log  \n",
       "0       10.203592  \n",
       "1       10.668955  \n",
       "2        8.839277  \n",
       "3        8.556414  \n",
       "4       10.656082  "
      ]
     },
     "execution_count": 9,
     "metadata": {},
     "output_type": "execute_result"
    }
   ],
   "source": [
    "# Dropping the non-transformed features\n",
    "car_ridge.drop([\"Present_Price\", \"Kms_Driven\"], axis=1, inplace=True)\n",
    "car_ridge.head()"
   ]
  },
  {
   "cell_type": "code",
   "execution_count": 10,
   "metadata": {},
   "outputs": [
    {
     "data": {
      "text/plain": [
       "((301, 8), (301,))"
      ]
     },
     "execution_count": 10,
     "metadata": {},
     "output_type": "execute_result"
    }
   ],
   "source": [
    "# Separating the independent and dependent features\n",
    "X_data = car_ridge.iloc[:,1:]\n",
    "y_data = car_ridge[\"Selling_Price\"]\n",
    "\n",
    "# Finding shape of independent and dependent variables\n",
    "X_data.shape, y_data.shape"
   ]
  },
  {
   "cell_type": "code",
   "execution_count": 11,
   "metadata": {},
   "outputs": [],
   "source": [
    "# Importing KFold cross-validation for splitting dataset \n",
    "from sklearn.model_selection import KFold\n",
    "\n",
    "# Creating object of KFold\n",
    "kf = KFold(n_splits = 5, shuffle = True, random_state = None) #----Performing 5-Fold cross-validation"
   ]
  },
  {
   "cell_type": "code",
   "execution_count": 12,
   "metadata": {},
   "outputs": [
    {
     "data": {
      "text/plain": [
       "((241, 8), (60, 8))"
      ]
     },
     "execution_count": 12,
     "metadata": {},
     "output_type": "execute_result"
    },
    {
     "data": {
      "text/plain": [
       "((241,), (60,))"
      ]
     },
     "execution_count": 12,
     "metadata": {},
     "output_type": "execute_result"
    }
   ],
   "source": [
    "# Splittting dataset into training and testing part using cross-validation\n",
    "for train_index, test_index in kf.split(X_data):\n",
    "    X_train, X_test = X_data.iloc[train_index,:], X_data.iloc[test_index,:]\n",
    "    y_train, y_test = y_data.iloc[train_index], y_data.iloc[test_index]\n",
    "\n",
    "# Finding out the shape of training and testing set\n",
    "X_train.shape, X_test.shape\n",
    "y_train.shape, y_test.shape"
   ]
  },
  {
   "cell_type": "markdown",
   "metadata": {},
   "source": [
    "### Ridge Regression------Randomized SearchCV"
   ]
  },
  {
   "cell_type": "code",
   "execution_count": 13,
   "metadata": {},
   "outputs": [],
   "source": [
    "# Creating the object of Ridge Regression Class\n",
    "ridge_reg = Ridge(normalize = True)"
   ]
  },
  {
   "cell_type": "code",
   "execution_count": 14,
   "metadata": {},
   "outputs": [],
   "source": [
    "# Creating parameter grid for hyper-parameter optimization\n",
    "param_grid = {\"alpha\" : np.random.uniform(low=0, high=10, size=(50,)),\n",
    "             \"fit_intercept\" : ([True, False]),\n",
    "             \"solver\" : (['svd', 'cholesky', 'sparse_cg', 'sag'])}\n",
    "#----Setting different values for various parameters of Ridge Regression\n",
    "\n",
    "# Hyperparameter optimization using Randomized Search CV\n",
    "ridge_reg_randomcv = RandomizedSearchCV(estimator = ridge_reg, param_distributions = param_grid, n_iter = 100, n_jobs = -1)\n",
    "#----Parameter grid being passed for performing hyperparameter optimization"
   ]
  },
  {
   "cell_type": "code",
   "execution_count": 15,
   "metadata": {},
   "outputs": [
    {
     "data": {
      "text/plain": [
       "RandomizedSearchCV(estimator=Ridge(normalize=True), n_iter=100, n_jobs=-1,\n",
       "                   param_distributions={'alpha': array([5.18839199, 2.83172961, 5.55467308, 1.73391224, 6.79672064,\n",
       "       7.25233471, 0.02142004, 6.3584211 , 1.88154224, 3.10261155,\n",
       "       5.63875474, 2.22749337, 0.42526751, 9.08053219, 2.42536167,\n",
       "       7.54870626, 2.69888242, 6.15278301, 8.93855604, 0.45438071,\n",
       "       5.64162358, 1.6422744 , 6....\n",
       "       0.47906778, 9.22868907, 1.61660811, 8.5341028 , 4.91767928,\n",
       "       0.26358233, 1.61945838, 1.63412517, 7.27543369, 3.56672908,\n",
       "       8.65119919, 9.49403336, 0.31765663, 1.50863682, 6.61301303,\n",
       "       6.82058091, 9.52412549, 5.87983594, 0.27474033, 2.16221725,\n",
       "       2.77025586, 5.39141364, 3.33225053, 4.97744002, 2.65565384]),\n",
       "                                        'fit_intercept': [True, False],\n",
       "                                        'solver': ['svd', 'cholesky',\n",
       "                                                   'sparse_cg', 'sag']})"
      ]
     },
     "execution_count": 15,
     "metadata": {},
     "output_type": "execute_result"
    }
   ],
   "source": [
    "# Fitting the model\n",
    "ridge_reg_randomcv.fit(X_train,y_train)"
   ]
  },
  {
   "cell_type": "code",
   "execution_count": 16,
   "metadata": {},
   "outputs": [
    {
     "data": {
      "text/plain": [
       "{'solver': 'sag', 'fit_intercept': False, 'alpha': 9.080532190942872}"
      ]
     },
     "execution_count": 16,
     "metadata": {},
     "output_type": "execute_result"
    }
   ],
   "source": [
    "# Finding the best parameter after performing hyperparameter tuning\n",
    "ridge_reg_randomcv.best_params_"
   ]
  },
  {
   "cell_type": "code",
   "execution_count": 17,
   "metadata": {},
   "outputs": [
    {
     "data": {
      "text/plain": [
       "Ridge(alpha=9.080532190942872, fit_intercept=False, normalize=True,\n",
       "      solver='sag')"
      ]
     },
     "execution_count": 17,
     "metadata": {},
     "output_type": "execute_result"
    }
   ],
   "source": [
    "# Passing the best parameter to Ridge Regression for model building\n",
    "best_param_ridge_reg = Ridge(alpha =  9.080532190942872, normalize = True, solver = \"sag\", fit_intercept = False)\n",
    "\n",
    "# Fitting the model after hyperparameter optimization\n",
    "best_param_ridge_reg.fit(X_train, y_train)"
   ]
  },
  {
   "cell_type": "code",
   "execution_count": 18,
   "metadata": {},
   "outputs": [
    {
     "name": "stdout",
     "output_type": "stream",
     "text": [
      "Slope: -0.545\n",
      "Intercept: 0.000\n"
     ]
    }
   ],
   "source": [
    "# Finding out the slope and intercept terms after fiting the model\n",
    "print(\"Slope: %.3f\" %best_param_ridge_reg.coef_[0]) #----Slope\n",
    "print(\"Intercept: %.3f\" %best_param_ridge_reg.intercept_) #----Intercept"
   ]
  },
  {
   "cell_type": "code",
   "execution_count": 19,
   "metadata": {},
   "outputs": [],
   "source": [
    "# Prediction\n",
    "y_pred = best_param_ridge_reg.predict(X_test)#----Prediction on testing set\n",
    "y_train_pred = best_param_ridge_reg.predict(X_train)#----Prediction on training set"
   ]
  },
  {
   "cell_type": "code",
   "execution_count": 20,
   "metadata": {},
   "outputs": [
    {
     "data": {
      "text/html": [
       "<div>\n",
       "<style scoped>\n",
       "    .dataframe tbody tr th:only-of-type {\n",
       "        vertical-align: middle;\n",
       "    }\n",
       "\n",
       "    .dataframe tbody tr th {\n",
       "        vertical-align: top;\n",
       "    }\n",
       "\n",
       "    .dataframe thead th {\n",
       "        text-align: right;\n",
       "    }\n",
       "</style>\n",
       "<table border=\"1\" class=\"dataframe\">\n",
       "  <thead>\n",
       "    <tr style=\"text-align: right;\">\n",
       "      <th></th>\n",
       "      <th>Actual</th>\n",
       "      <th>Predicted</th>\n",
       "    </tr>\n",
       "  </thead>\n",
       "  <tbody>\n",
       "    <tr>\n",
       "      <th>8</th>\n",
       "      <td>8.75</td>\n",
       "      <td>8.580241</td>\n",
       "    </tr>\n",
       "    <tr>\n",
       "      <th>16</th>\n",
       "      <td>7.25</td>\n",
       "      <td>9.021591</td>\n",
       "    </tr>\n",
       "    <tr>\n",
       "      <th>22</th>\n",
       "      <td>4.40</td>\n",
       "      <td>6.433169</td>\n",
       "    </tr>\n",
       "    <tr>\n",
       "      <th>29</th>\n",
       "      <td>7.45</td>\n",
       "      <td>8.938050</td>\n",
       "    </tr>\n",
       "    <tr>\n",
       "      <th>34</th>\n",
       "      <td>5.50</td>\n",
       "      <td>7.695688</td>\n",
       "    </tr>\n",
       "  </tbody>\n",
       "</table>\n",
       "</div>"
      ],
      "text/plain": [
       "    Actual  Predicted\n",
       "8     8.75   8.580241\n",
       "16    7.25   9.021591\n",
       "22    4.40   6.433169\n",
       "29    7.45   8.938050\n",
       "34    5.50   7.695688"
      ]
     },
     "execution_count": 20,
     "metadata": {},
     "output_type": "execute_result"
    }
   ],
   "source": [
    "# Creating a new dataframe having actual and predicted values\n",
    "comp_df = pd.DataFrame({\"Actual\" : y_test, \"Predicted\" : y_pred})\n",
    "comp_df.head()\n",
    "#---Used for comparision purpose"
   ]
  },
  {
   "cell_type": "code",
   "execution_count": 21,
   "metadata": {},
   "outputs": [
    {
     "data": {
      "text/plain": [
       "<AxesSubplot:xlabel='Selling_Price', ylabel='Density'>"
      ]
     },
     "execution_count": 21,
     "metadata": {},
     "output_type": "execute_result"
    },
    {
     "data": {
      "image/png": "[encoded data removed]",
      "text/plain": [
       "<Figure size 432x288 with 1 Axes>"
      ]
     },
     "metadata": {
      "needs_background": "light"
     },
     "output_type": "display_data"
    }
   ],
   "source": [
    "# Visualising the comparision between Actual and Predicted values\n",
    "ax_1 = sns.distplot(car_ridge[\"Selling_Price\"], hist = False, color = \"r\", label = \"Actual_Value\")\n",
    "sns.distplot(y_pred, hist = False, color = \"b\", label = \"Fitted_Value\", ax = ax_1)"
   ]
  },
  {
   "cell_type": "code",
   "execution_count": 22,
   "metadata": {},
   "outputs": [],
   "source": [
    "# Function for calculating Adjusted R-square\n",
    "def adj_r2(x,y):\n",
    "    r2 = best_param_ridge_reg.score(x,y)\n",
    "    n = x.shape[0]\n",
    "    p = x.shape[1]\n",
    "    adjusted_r2 = 1 - (1 - r2) * (n - 1) / (n - p - 1)\n",
    "    return adjusted_r2"
   ]
  },
  {
   "cell_type": "code",
   "execution_count": 23,
   "metadata": {},
   "outputs": [
    {
     "name": "stdout",
     "output_type": "stream",
     "text": [
      "R^2 train: 0.775, test: 0.855\n",
      "Adjusted R^2 train: 0.767, test: 0.832\n"
     ]
    }
   ],
   "source": [
    "# Model Evaluation using R-square \n",
    "print('R^2 train: %.3f, test: %.3f' %(r2_score(y_train, y_train_pred),r2_score(y_test, y_pred)))\n",
    "\n",
    "# Model Evaluation using Adjusted R-square\n",
    "print('Adjusted R^2 train: %.3f, test: %.3f' %(adj_r2(X_train,y_train),adj_r2(X_test,y_test)))"
   ]
  },
  {
   "cell_type": "code",
   "execution_count": 24,
   "metadata": {},
   "outputs": [
    {
     "name": "stdout",
     "output_type": "stream",
     "text": [
      "Mean Absolute Error: train: 1.603, test: 1.202\n",
      "Root Mean Squared Error: train: 1.266, test: 1.096\n"
     ]
    }
   ],
   "source": [
    "# Model Evaluation using Mean Absolute Error\n",
    "print('Mean Absolute Error: train: %.3f, test: %.3f' %(mean_absolute_error(y_train, y_train_pred),mean_absolute_error(y_test, y_pred)))\n",
    "\n",
    "# Model Evaluation using Root Mean Squared (RMSE) Error\n",
    "print('Root Mean Squared Error: train: %.3f, test: %.3f' %(sqrt(mean_absolute_error(y_train, y_train_pred)),sqrt(mean_absolute_error(y_test, y_pred))))"
   ]
  }
 ],
 "metadata": {
  "kernelspec": {
   "display_name": "Python (Car_price)",
   "language": "python",
   "name": "car_price"
  },
  "language_info": {
   "codemirror_mode": {
    "name": "ipython",
    "version": 3
   },
   "file_extension": ".py",
   "mimetype": "text/x-python",
   "name": "python",
   "nbconvert_exporter": "python",
   "pygments_lexer": "ipython3",
   "version": "3.7.9"
  }
 },
 "nbformat": 4,
 "nbformat_minor": 2
}
